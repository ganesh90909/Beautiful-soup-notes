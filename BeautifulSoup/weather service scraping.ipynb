{
 "cells": [
  {
   "cell_type": "code",
   "execution_count": 1,
   "metadata": {},
   "outputs": [],
   "source": [
    "import requests\n",
    "from bs4 import BeautifulSoup"
   ]
  },
  {
   "cell_type": "code",
   "execution_count": 2,
   "metadata": {},
   "outputs": [],
   "source": [
    "#page having info about seven day weather report in San franscisco, US.\n",
    "page=requests.get('https://forecast.weather.gov/MapClick.php?lat=37.777120000000025&lon=-122.41963999999996#.XwmOr-czagR')\n",
    "soup=BeautifulSoup(page.content,'html.parser')\n"
   ]
  },
  {
   "cell_type": "code",
   "execution_count": 5,
   "metadata": {},
   "outputs": [
    {
     "data": {
      "text/plain": [
       "<Response [200]>"
      ]
     },
     "execution_count": 5,
     "metadata": {},
     "output_type": "execute_result"
    }
   ],
   "source": [
    "page"
   ]
  },
  {
   "cell_type": "code",
   "execution_count": 6,
   "metadata": {},
   "outputs": [
    {
     "data": {
      "text/plain": [
       "200"
      ]
     },
     "execution_count": 6,
     "metadata": {},
     "output_type": "execute_result"
    }
   ],
   "source": [
    "page.status_code"
   ]
  },
  {
   "cell_type": "markdown",
   "metadata": {},
   "source": [
    "**A response code starting with 2 is successful response code and response code starting with 4 or 5 indicates there is an error in loading the content.**"
   ]
  },
  {
   "cell_type": "code",
   "execution_count": 8,
   "metadata": {},
   "outputs": [
    {
     "name": "stdout",
     "output_type": "stream",
     "text": [
      "<div class=\"tombstone-container\">\n",
      " <p class=\"period-name\">\n",
      "  Overnight\n",
      "  <br/>\n",
      "  <br/>\n",
      " </p>\n",
      " <p>\n",
      "  <img alt=\"Overnight: Partly cloudy, with a low around 54. West southwest wind around 7 mph. \" class=\"forecast-icon\" src=\"newimages/medium/nsct.png\" title=\"Overnight: Partly cloudy, with a low around 54. West southwest wind around 7 mph. \"/>\n",
      " </p>\n",
      " <p class=\"short-desc\">\n",
      "  Partly Cloudy\n",
      " </p>\n",
      " <p class=\"temp temp-low\">\n",
      "  Low: 54 °F\n",
      " </p>\n",
      "</div>\n"
     ]
    }
   ],
   "source": [
    "\n",
    "seven_day=soup.find(id='seven-day-forecast-container')\n",
    "forecast_items=seven_day.find_all(class_='tombstone-container')\n",
    "tonight=forecast_items[0]\n",
    "print(tonight.prettify())\n"
   ]
  },
  {
   "cell_type": "code",
   "execution_count": 25,
   "metadata": {},
   "outputs": [
    {
     "name": "stdout",
     "output_type": "stream",
     "text": [
      "Overnight\n",
      "Partly Cloudy\n",
      "Low: 54 °F\n"
     ]
    }
   ],
   "source": [
    "#we need 4 items from each div \n",
    "#1.period-tonight\n",
    "#2.short_desc-Partly cloudy\n",
    "#3.temp-54 F\n",
    "#4.description- img title description\n",
    "\n",
    "period=tonight.find(class_='period-name').get_text()\n",
    "print(period)\n",
    "\n",
    "short_descr=tonight.find(class_='short-desc').get_text()\n",
    "print(short_descr)\n",
    "\n",
    "temp=tonight.find(class_='temp').get_text()\n",
    "print(temp)\n"
   ]
  },
  {
   "cell_type": "code",
   "execution_count": 26,
   "metadata": {},
   "outputs": [
    {
     "name": "stdout",
     "output_type": "stream",
     "text": [
      "Overnight: Partly cloudy, with a low around 54. West southwest wind around 7 mph. \n"
     ]
    }
   ],
   "source": [
    "img=tonight.find('img')\n",
    "long_desc=img['title']\n",
    "print(long_desc)\n"
   ]
  },
  {
   "cell_type": "markdown",
   "metadata": {},
   "source": [
    "## Extracing all the information from the page"
   ]
  },
  {
   "cell_type": "code",
   "execution_count": 29,
   "metadata": {},
   "outputs": [],
   "source": [
    "periods=[]\n",
    "short_descs=[]\n",
    "temps=[]\n",
    "long_descs=[]\n",
    "\n",
    "for forecast in seven_day.find_all(class_='tombstone-container'):\n",
    "    period=forecast.find(class_='period-name').get_text()\n",
    "    short_desc=forecast.find(class_='short-desc').get_text()\n",
    "    temp=forecast.find(class_='temp').get_text()\n",
    "    img=forecast.find('img')\n",
    "    long_desc=img['title']\n",
    "    \n",
    "    periods.append(period)\n",
    "    short_descs.append(short_desc)\n",
    "    temps.append(temp)\n",
    "    long_descs.append(long_desc)\n",
    "    "
   ]
  },
  {
   "cell_type": "code",
   "execution_count": 30,
   "metadata": {},
   "outputs": [
    {
     "data": {
      "text/plain": [
       "['Overnight',\n",
       " 'Saturday',\n",
       " 'SaturdayNight',\n",
       " 'Sunday',\n",
       " 'SundayNight',\n",
       " 'Monday',\n",
       " 'MondayNight',\n",
       " 'Tuesday',\n",
       " 'TuesdayNight']"
      ]
     },
     "execution_count": 30,
     "metadata": {},
     "output_type": "execute_result"
    }
   ],
   "source": [
    "periods"
   ]
  },
  {
   "cell_type": "code",
   "execution_count": 31,
   "metadata": {},
   "outputs": [
    {
     "data": {
      "text/plain": [
       "['Partly Cloudy',\n",
       " 'Sunny',\n",
       " 'Partly Cloudy',\n",
       " 'BecomingSunny',\n",
       " 'Mostly Clear',\n",
       " 'Mostly Sunny',\n",
       " 'Partly Cloudy',\n",
       " 'Sunny',\n",
       " 'Mostly Clear']"
      ]
     },
     "execution_count": 31,
     "metadata": {},
     "output_type": "execute_result"
    }
   ],
   "source": [
    "short_descs"
   ]
  },
  {
   "cell_type": "code",
   "execution_count": 32,
   "metadata": {},
   "outputs": [],
   "source": [
    "#creating a dataframe\n",
    "import pandas as pd\n",
    "\n",
    "data=pd.DataFrame({'periods':periods,\n",
    "                   'short_forecast':short_descs,\n",
    "                  'temperatures':temps,\n",
    "                  'description':long_descs})\n"
   ]
  },
  {
   "cell_type": "code",
   "execution_count": 33,
   "metadata": {},
   "outputs": [
    {
     "data": {
      "text/html": [
       "<div>\n",
       "<style scoped>\n",
       "    .dataframe tbody tr th:only-of-type {\n",
       "        vertical-align: middle;\n",
       "    }\n",
       "\n",
       "    .dataframe tbody tr th {\n",
       "        vertical-align: top;\n",
       "    }\n",
       "\n",
       "    .dataframe thead th {\n",
       "        text-align: right;\n",
       "    }\n",
       "</style>\n",
       "<table border=\"1\" class=\"dataframe\">\n",
       "  <thead>\n",
       "    <tr style=\"text-align: right;\">\n",
       "      <th></th>\n",
       "      <th>periods</th>\n",
       "      <th>short_forecast</th>\n",
       "      <th>temperatures</th>\n",
       "      <th>description</th>\n",
       "    </tr>\n",
       "  </thead>\n",
       "  <tbody>\n",
       "    <tr>\n",
       "      <th>0</th>\n",
       "      <td>Overnight</td>\n",
       "      <td>Partly Cloudy</td>\n",
       "      <td>Low: 54 °F</td>\n",
       "      <td>Overnight: Partly cloudy, with a low around 54...</td>\n",
       "    </tr>\n",
       "    <tr>\n",
       "      <th>1</th>\n",
       "      <td>Saturday</td>\n",
       "      <td>Sunny</td>\n",
       "      <td>High: 70 °F</td>\n",
       "      <td>Saturday: Sunny, with a high near 70. West sou...</td>\n",
       "    </tr>\n",
       "    <tr>\n",
       "      <th>2</th>\n",
       "      <td>SaturdayNight</td>\n",
       "      <td>Partly Cloudy</td>\n",
       "      <td>Low: 54 °F</td>\n",
       "      <td>Saturday Night: Partly cloudy, with a low arou...</td>\n",
       "    </tr>\n",
       "    <tr>\n",
       "      <th>3</th>\n",
       "      <td>Sunday</td>\n",
       "      <td>BecomingSunny</td>\n",
       "      <td>High: 72 °F</td>\n",
       "      <td>Sunday: Partly sunny, then gradually becoming ...</td>\n",
       "    </tr>\n",
       "    <tr>\n",
       "      <th>4</th>\n",
       "      <td>SundayNight</td>\n",
       "      <td>Mostly Clear</td>\n",
       "      <td>Low: 56 °F</td>\n",
       "      <td>Sunday Night: Mostly clear, with a low around ...</td>\n",
       "    </tr>\n",
       "    <tr>\n",
       "      <th>5</th>\n",
       "      <td>Monday</td>\n",
       "      <td>Mostly Sunny</td>\n",
       "      <td>High: 69 °F</td>\n",
       "      <td>Monday: Mostly sunny, with a high near 69.</td>\n",
       "    </tr>\n",
       "    <tr>\n",
       "      <th>6</th>\n",
       "      <td>MondayNight</td>\n",
       "      <td>Partly Cloudy</td>\n",
       "      <td>Low: 55 °F</td>\n",
       "      <td>Monday Night: Partly cloudy, with a low around...</td>\n",
       "    </tr>\n",
       "    <tr>\n",
       "      <th>7</th>\n",
       "      <td>Tuesday</td>\n",
       "      <td>Sunny</td>\n",
       "      <td>High: 71 °F</td>\n",
       "      <td>Tuesday: Sunny, with a high near 71.</td>\n",
       "    </tr>\n",
       "    <tr>\n",
       "      <th>8</th>\n",
       "      <td>TuesdayNight</td>\n",
       "      <td>Mostly Clear</td>\n",
       "      <td>Low: 56 °F</td>\n",
       "      <td>Tuesday Night: Mostly clear, with a low around...</td>\n",
       "    </tr>\n",
       "  </tbody>\n",
       "</table>\n",
       "</div>"
      ],
      "text/plain": [
       "         periods short_forecast temperatures  \\\n",
       "0      Overnight  Partly Cloudy   Low: 54 °F   \n",
       "1       Saturday          Sunny  High: 70 °F   \n",
       "2  SaturdayNight  Partly Cloudy   Low: 54 °F   \n",
       "3         Sunday  BecomingSunny  High: 72 °F   \n",
       "4    SundayNight   Mostly Clear   Low: 56 °F   \n",
       "5         Monday   Mostly Sunny  High: 69 °F   \n",
       "6    MondayNight  Partly Cloudy   Low: 55 °F   \n",
       "7        Tuesday          Sunny  High: 71 °F   \n",
       "8   TuesdayNight   Mostly Clear   Low: 56 °F   \n",
       "\n",
       "                                         description  \n",
       "0  Overnight: Partly cloudy, with a low around 54...  \n",
       "1  Saturday: Sunny, with a high near 70. West sou...  \n",
       "2  Saturday Night: Partly cloudy, with a low arou...  \n",
       "3  Sunday: Partly sunny, then gradually becoming ...  \n",
       "4  Sunday Night: Mostly clear, with a low around ...  \n",
       "5         Monday: Mostly sunny, with a high near 69.  \n",
       "6  Monday Night: Partly cloudy, with a low around...  \n",
       "7               Tuesday: Sunny, with a high near 71.  \n",
       "8  Tuesday Night: Mostly clear, with a low around...  "
      ]
     },
     "execution_count": 33,
     "metadata": {},
     "output_type": "execute_result"
    }
   ],
   "source": [
    "data"
   ]
  },
  {
   "cell_type": "code",
   "execution_count": null,
   "metadata": {},
   "outputs": [],
   "source": []
  }
 ],
 "metadata": {
  "kernelspec": {
   "display_name": "Python 3",
   "language": "python",
   "name": "python3"
  },
  "language_info": {
   "codemirror_mode": {
    "name": "ipython",
    "version": 3
   },
   "file_extension": ".py",
   "mimetype": "text/x-python",
   "name": "python",
   "nbconvert_exporter": "python",
   "pygments_lexer": "ipython3",
   "version": "3.7.3"
  }
 },
 "nbformat": 4,
 "nbformat_minor": 2
}
